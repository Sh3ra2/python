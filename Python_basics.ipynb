{
  "nbformat": 4,
  "nbformat_minor": 0,
  "metadata": {
    "colab": {
      "provenance": [],
      "authorship_tag": "ABX9TyMsTA3KUIKEVfqsdDl5NO0N",
      "include_colab_link": true
    },
    "kernelspec": {
      "name": "python3",
      "display_name": "Python 3"
    },
    "language_info": {
      "name": "python"
    }
  },
  "cells": [
    {
      "cell_type": "markdown",
      "metadata": {
        "id": "view-in-github",
        "colab_type": "text"
      },
      "source": [
        "<a href=\"https://colab.research.google.com/github/Sh3ra2/python/blob/google-colab/Python_basics.ipynb\" target=\"_parent\"><img src=\"https://colab.research.google.com/assets/colab-badge.svg\" alt=\"Open In Colab\"/></a>"
      ]
    },
    {
      "cell_type": "code",
      "source": [
        "#Assignment 1 Topics\n",
        "#1:Loops\n",
        "#2:Enumeration\n",
        "#3:List\n",
        "#4:List Comprehension\n",
        "#5:Functions\n",
        "#6:Generators\n",
        "#7:Lamdba Expression\n",
        "#8:Dictionaries - Operations On Dictionaries\n",
        "#9:Map()\n",
        "#10:Filter\n",
        "#11:Decorators\n",
        "#12:List Indexing"
      ],
      "metadata": {
        "id": "qgcYwQSYH0bZ"
      },
      "execution_count": null,
      "outputs": []
    },
    {
      "cell_type": "code",
      "source": [
        "#1:Loops\n",
        "#The three types of loops in Python programming are,\n",
        "#1:while loop. 2:for loop. 3:nested loops.\n",
        "choice=int(input(\"choose your Loops\\n1:While Loop\\n2:For Loop\\n3:Nested Loop\\n--> \"))\n",
        "#-------------------------------------------------------------------------------\n",
        "#with \"if\" statement\n",
        "if choice == 1:\n",
        "  print(\"In while loops module\")\n",
        "  print(\"While Loop with if statement\")\n",
        "  a=1\n",
        "  while a <= 6 :\n",
        "    print(a)    #we would print I before incrementing, So that it starts from 1\n",
        "    a+=1        #incrementing\n",
        "    if a==3:\n",
        "      print(\"we are at 3\")\n",
        "#with \"continue\" statement\n",
        "  b = 0\n",
        "  print(\"While Loop with continue statement\")\n",
        "  while b < 6:\n",
        "    b+=1\n",
        "    if b == 3:\n",
        "      continue\n",
        "    print(b)\n",
        "#-------------------------------------------------------------------------------  \n",
        "elif choice == 2:\n",
        "  d=4 \n",
        "  print(\"you are in For loops module\")\n",
        "  \n",
        "  for c in range(7):\n",
        "    print(\"Printing C\", c)\n",
        "  \n",
        "  for d in range(1,d+1):\n",
        "    print(\"Printing D\", d) \n",
        "  fruits=[\"Apple\",\"Banana\",\"Onion\"]\n",
        "  \n",
        "  for x in fruits:\n",
        "    print(x)\n",
        "\n",
        "  for y in fruits:\n",
        "    if y==\"Onion\":\n",
        "      break  \n",
        "    print(y) \n",
        "\n",
        "#-------------------------------------------------------------------------------    \n",
        "elif choice == 3: \n",
        "  print(\"you are in Nested loops module\")\n",
        "  \n",
        "  lines = int(input(\"Enter Number of lines for Right-triangle:\"))\n",
        "  for i in range(lines):\n",
        "    for j in range(i+1):\n",
        "      print(\"*\",end=\"\")\n",
        "    print(\"\") \n",
        "\n",
        "  print(\"Printing Top-Down triangle\")\n",
        "  for i in range(1, lines):\n",
        "    for j in range (lines,i,-1):\n",
        "      print(\"*\",end=\"\")\n",
        "    print(\"\")   \n",
        "\n",
        "  #Program to print Right Half Pyramid\n",
        "  print(\"Printing half triangle\")\n",
        "  k = 8\n",
        "  for i in range(0, lines):\n",
        "    for j in range(0, k):\n",
        "      print(end=\" \")\n",
        "    k = k - 2\n",
        "    for j in range(0, i+1):\n",
        "      print(\"* \", end=\"\")\n",
        "    print()\n",
        "\n",
        "else:\n",
        "  print(\"Enter from given numbers\")"
      ],
      "metadata": {
        "colab": {
          "base_uri": "https://localhost:8080/"
        },
        "id": "7i2QqAzIFyZD",
        "outputId": "f7d686fe-a7da-4f24-bd91-aaca6b6f6d7a"
      },
      "execution_count": null,
      "outputs": [
        {
          "output_type": "stream",
          "name": "stdout",
          "text": [
            "choose your Loops\n",
            "1:While Loop\n",
            "2:For Loop\n",
            "3:Nested Loop\n",
            "--> 3\n",
            "you are in Nested loops module\n",
            "Enter Number of lines for Right-triangle:5\n",
            "*\n",
            "**\n",
            "***\n",
            "****\n",
            "*****\n",
            "Printing Top-Down triangle\n",
            "****\n",
            "***\n",
            "**\n",
            "*\n",
            "Printing half triangle\n",
            "        * \n",
            "      * * \n",
            "    * * * \n",
            "  * * * * \n",
            "* * * * * \n"
          ]
        }
      ]
    },
    {
      "cell_type": "code",
      "source": [
        "#2:Enumeration\n",
        "# For revesion (https://youtu.be/KssW4mF0h0c)(https://www.geeksforgeeks.org/enumerate-in-python/)\n",
        "#First we should know about zip/unzip functions\n",
        "\n",
        "#zipping file\n",
        "print(\"Merging Two lists\")\n",
        "friends = ['Ahmed','Asad','Waleed','Huzaifa']\n",
        "age = ['26','28','48','34']\n",
        "wehave = list(zip(friends,age))\n",
        "print(wehave)\n",
        "\n",
        "#Unzipping file\n",
        "print(\"\\nSeperating one list into two\")\n",
        "friends_list = [('Ahmed', '26'), ('Asad', '28'), ('Waleed', '48'), ('Huzaifa', '34')]\n",
        "unzipping = list(zip(*(friends_list)))\n",
        "print(unzipping)\n",
        "\n",
        "#Now using enumeration function, It is used to assign index to entries of list\n",
        "print(\"\\nAssigning index to entries by enumeration\")\n",
        "for i,item in enumerate(friends):\n",
        "  print(i, item)\n",
        "\n",
        "#if you want to do the same by zip function  \n",
        "print(\"\\nDoing enumeration with zip functions\")\n",
        "for j,item in zip(range(len(friends)),friends): #here len=length is getting number of entries and then we are assigning it to friends\n",
        "  print(j, item)\n",
        "\n",
        "print(\"\\nPrinting age\")\n",
        "for i in range(len(age)):\n",
        "  print(age[i])\n",
        "\n",
        "          #Another method for enumerating \n",
        "\n",
        "print(\"\\nUsing other enumerating method:\")\n",
        "l1 = [\"eat\",\"sleep\",\"repeat\"]\n",
        "s1 = \"geek\"\n",
        " \n",
        "# creating enumerate objects\n",
        "obj1 = enumerate(l1)\n",
        "obj2 = enumerate(s1)\n",
        " \n",
        "print (\"Return type:\",type(obj1))\n",
        "print (list(enumerate(l1)))\n",
        " \n",
        "# changing start index to 2 from 0\n",
        "print (list(enumerate(s1,2)))"
      ],
      "metadata": {
        "colab": {
          "base_uri": "https://localhost:8080/"
        },
        "id": "oNpXmm42F-Pi",
        "outputId": "71d4ff72-6827-4fa2-e3ee-7af65e7d640c"
      },
      "execution_count": null,
      "outputs": [
        {
          "output_type": "stream",
          "name": "stdout",
          "text": [
            "Merging Two lists\n",
            "[('Ahmed', '26'), ('Asad', '28'), ('Waleed', '48'), ('Huzaifa', '34')]\n",
            "\n",
            "Seperating one list into two\n",
            "[('Ahmed', 'Asad', 'Waleed', 'Huzaifa'), ('26', '28', '48', '34')]\n",
            "\n",
            "Assigning index to entries by enumeration\n",
            "0 Ahmed\n",
            "1 Asad\n",
            "2 Waleed\n",
            "3 Huzaifa\n",
            "\n",
            "Doing enumeration with zip functions\n",
            "0 Ahmed\n",
            "1 Asad\n",
            "2 Waleed\n",
            "3 Huzaifa\n",
            "\n",
            "Printing age\n",
            "26\n",
            "28\n",
            "48\n",
            "34\n",
            "\n",
            "Doing enumeration with age\n",
            "0 Ahmed\n",
            "1 Asad\n",
            "2 Waleed\n",
            "3 Huzaifa\n",
            "\n",
            "Using other enumerating method:\n",
            "Return type: <class 'enumerate'>\n",
            "[(0, 'eat'), (1, 'sleep'), (2, 'repeat')]\n",
            "[(2, 'g'), (3, 'e'), (4, 'e'), (5, 'k')]\n"
          ]
        }
      ]
    },
    {
      "cell_type": "code",
      "source": [
        "\n",
        "import numpy as np\n",
        "myarray = np.arange(13)\n",
        "myarray\n",
        "myarray[0,1] = 26\n",
        "myarray"
      ],
      "metadata": {
        "colab": {
          "base_uri": "https://localhost:8080/",
          "height": 166
        },
        "id": "AFt4NBBfsIbp",
        "outputId": "6cda3afe-879f-4025-ed4f-f4377a0377b6"
      },
      "execution_count": null,
      "outputs": [
        {
          "output_type": "error",
          "ename": "SyntaxError",
          "evalue": "ignored",
          "traceback": [
            "\u001b[0;36m  File \u001b[0;32m\"<ipython-input-5-74c7f20a9dd6>\"\u001b[0;36m, line \u001b[0;32m5\u001b[0m\n\u001b[0;31m    myarray(0,2) = 26\u001b[0m\n\u001b[0m                     ^\u001b[0m\n\u001b[0;31mSyntaxError\u001b[0m\u001b[0;31m:\u001b[0m can't assign to function call\n"
          ]
        }
      ]
    },
    {
      "cell_type": "code",
      "source": [
        "#3:List\n",
        "#List can be of multiple data types\n",
        "testing = ['hello','hy','bye',3,'bye',True]\n",
        "print(testing)\n",
        "print(\"Length of the list 'testing':\", len(testing))\n",
        "print(\"Type of list created: \", type(testing))\n",
        "print(\"Last item on the list\", testing[-1])\n",
        "print(\"Printing with range\", testing[2:5])\n",
        "\n",
        "print()\n",
        "\n",
        "\n",
        "#creating list by constructor \"list\"\n",
        "thislist = list((\"apple\", \"banana\", \"cherry\")) # note the double round-brackets\n",
        "print(thislist)\n",
        "\n",
        "print()\n",
        "\n",
        "\n",
        "#changing data from list\n",
        "thisnewlist = [\"apple\", \"banana\", \"cherry\", \"orange\", \"kiwi\", \"mango\"]\n",
        "print(\"List before changing:                 \",thisnewlist )\n",
        "thisnewlist[1:3] = [\"blackcurrant\", \"watermelon\"]               #here 1 is starting index so it would start from index 1,\n",
        "print(\"List after changing at index 1 and 3: \", thisnewlist)    #but end which is 3 would end at index 3-1=2.\n",
        "\n",
        "print()\n",
        "\n",
        "\n",
        "#adding data in list\n",
        "test2 = ['its 1','its 2','its 3']\n",
        "print(test2)\n",
        "test2.append(\"Its 4\")\n",
        "print(test2)\n",
        "test2.insert(1,\"Its 2 at index 1\")\n",
        "print(test2)\n",
        "\n",
        "print()\n",
        "\n",
        "#Now we will extend two lists, it could be tuple but noooooooooo\n",
        "#using testing + test2\n",
        "testing.extend(test2)\n",
        "print(\"Printing extended list testing: \", testing)\n"
      ],
      "metadata": {
        "id": "nB2mKI5qF-nO",
        "colab": {
          "base_uri": "https://localhost:8080/"
        },
        "outputId": "fdf21ed3-a8fa-4f1b-ddc4-47f21793f446"
      },
      "execution_count": null,
      "outputs": [
        {
          "output_type": "stream",
          "name": "stdout",
          "text": [
            "['hello', 'hy', 'bye', 3, 'bye', True]\n",
            "Length of the list 'testing': 6\n",
            "Type of list created:  <class 'list'>\n",
            "Last item on the list True\n",
            "Printing with range ['bye', 3, 'bye']\n",
            "\n",
            "['apple', 'banana', 'cherry']\n",
            "\n",
            "List before changing:                  ['apple', 'banana', 'cherry', 'orange', 'kiwi', 'mango']\n",
            "List after changing at index 1 and 3:  ['apple', 'blackcurrant', 'watermelon', 'orange', 'kiwi', 'mango']\n",
            "\n",
            "['its 1', 'its 2', 'its 3']\n",
            "['its 1', 'its 2', 'its 3', 'Its 4']\n",
            "['its 1', 'Its 2 at index 1', 'its 2', 'its 3', 'Its 4']\n",
            "\n",
            "Printing extended list testing:  ['hello', 'hy', 'bye', 3, 'bye', True, 'its 1', 'Its 2 at index 1', 'its 2', 'its 3', 'Its 4']\n"
          ]
        }
      ]
    },
    {
      "cell_type": "code",
      "source": [
        "#4:List Comprehension\n",
        "#For Revesion: (https://www.w3schools.com/python/python_lists_comprehension.asp)\n",
        "#List comprehension offers a shorter syntax when you want to create a new list based on the values of an existing list.\n",
        "#Syntax:    newlist = [expression for item in iterable if condition == True]\n",
        "\n",
        "#Normal Code\n",
        "print(\"List with normal code\")\n",
        "fruits = [\"apple\", \"banana\", \"cherry\", \"kiwi\", \"mango\"]\n",
        "newlist = []\n",
        "\n",
        "for x in fruits:\n",
        "  if \"a\" in x:\n",
        "    newlist.append(x)\n",
        "print(newlist,end=\"\\n\\n\")\n",
        "\n",
        "#Now doing the same with comprehension function\n",
        "print(\"Lists with comprehension function\")\n",
        "fruits = [\"apple\", \"banana\", \"cherry\", \"kiwi\", \"mango\"]\n",
        "\n",
        "newlist = [x for x in fruits if \"a\" in x]\n",
        "print(newlist)\n",
        "\n",
        "newlist2 = [x for x in fruits if x != \"apple\"]\n",
        "print(newlist2)\n",
        "\n",
        "newlist3 = [x for x in fruits]\n",
        "print(newlist3)\n",
        "\n",
        "#and so on"
      ],
      "metadata": {
        "id": "HEb7e50BF-vS",
        "colab": {
          "base_uri": "https://localhost:8080/"
        },
        "outputId": "6b7bf85e-0524-4f38-aef4-19d6d2487273"
      },
      "execution_count": null,
      "outputs": [
        {
          "output_type": "stream",
          "name": "stdout",
          "text": [
            "List with normal code\n",
            "['apple', 'banana', 'mango']\n",
            "\n",
            "List with comprehension function\n",
            "['apple', 'banana', 'mango']\n",
            "['banana', 'cherry', 'kiwi', 'mango']\n",
            "['apple', 'banana', 'cherry', 'kiwi', 'mango']\n"
          ]
        }
      ]
    },
    {
      "cell_type": "code",
      "source": [
        "#5:Functions\n",
        "# Revision from(https://www.w3schools.com/python/python_functions.asp) because I have yet not worked at keywords\n",
        "            \n",
        "            #Simple Functions\n",
        "def my_function():\n",
        "  print(\"Hello from a function\")\n",
        "\n",
        "def new_function():\n",
        "  print(\"Its a new function\")\n",
        "\n",
        "my_function()\n",
        "new_function()\n",
        "\n",
        "             #User defined Functions\n",
        "def new2_function(fname, lname):\n",
        "  print(fname + \" \" + lname)\n",
        "\n",
        "new2_function(\"Emil\", \"Refsnes\")\n",
        "\n",
        "\n",
        "              #If the number of arguments is unknown, add a * before the parameter name\n",
        "def new3_function(*kids):\n",
        "  print(\"The youngest child is \" + kids[2])\n",
        "\n",
        "new3_function(\"Emil\", \"Tobias\", \"Linus\")\n",
        "\n",
        "              #default parameter value\n",
        "print(\"\\nDefault argument\")\n",
        "def new4_function(country = \"Norway\"):\n",
        "  print(\"I am from \" + country)\n",
        "\n",
        "new4_function(\"Sweden\")\n",
        "new4_function(\"Pakistan\")\n",
        "new4_function()\n",
        "new4_function(\"Brazil\")\n",
        "\n",
        "              #List as function parameter\n",
        "print(\"\\nPassed list\")\n",
        "def new5_function(food):\n",
        "  for x in food:\n",
        "    print(x)\n",
        "fruits = [\"apple\", \"banana\", \"cherry\"]\n",
        "\n",
        "new5_function(fruits)\n",
        "\n",
        "\n",
        "            #To let a function return a value, use the return statement:\n",
        "def new6_function(x):\n",
        "  return 5 * x\n",
        "\n",
        "print(new6_function(3))\n",
        "print(new6_function(5))\n",
        "print(new6_function(9))"
      ],
      "metadata": {
        "id": "ZvFZ3Hf6F-23",
        "colab": {
          "base_uri": "https://localhost:8080/"
        },
        "outputId": "83e5777b-0f6c-46e2-fbee-0475013e1090"
      },
      "execution_count": null,
      "outputs": [
        {
          "output_type": "stream",
          "name": "stdout",
          "text": [
            "Hello from a function\n",
            "Its a new function\n",
            "Emil Refsnes\n",
            "The youngest child is Linus\n",
            "\n",
            "Default argument\n",
            "I am from Sweden\n",
            "I am from Pakistan\n",
            "I am from Norway\n",
            "I am from Brazil\n",
            "\n",
            "Passed list\n",
            "apple\n",
            "banana\n",
            "cherry\n",
            "15\n",
            "25\n",
            "45\n"
          ]
        }
      ]
    },
    {
      "cell_type": "code",
      "source": [
        "#6:Generators\n",
        "def my_generator(n):\n",
        "\n",
        "    # initialize counter\n",
        "    value = 0\n",
        "\n",
        "    # loop until counter is less than n\n",
        "    while value < n:\n",
        "\n",
        "        # produce the current value of the counter\n",
        "        yield value\n",
        "\n",
        "        # increment the counter\n",
        "        value += 1\n",
        "\n",
        "# iterate over the generator object produced by my_generator\n",
        "for value in my_generator(5):\n",
        "\n",
        "    # print each value produced by generator\n",
        "    print(value)"
      ],
      "metadata": {
        "id": "GAs6ieZOF--2",
        "colab": {
          "base_uri": "https://localhost:8080/"
        },
        "outputId": "bc5b0d14-b682-409a-d965-43865b7e716d"
      },
      "execution_count": 12,
      "outputs": [
        {
          "output_type": "stream",
          "name": "stdout",
          "text": [
            "0\n",
            "1\n",
            "2\n",
            "3\n",
            "4\n"
          ]
        }
      ]
    },
    {
      "cell_type": "code",
      "source": [
        "#7:Lamdba Expression\n",
        "#Lambda is an anonymous function which allows users to do arithmatic operation on anyargument\n",
        "#But it has a condition that you can pass many arguments, but only one expression\n",
        "#it helps when you want to use a function just once but dont want to make it a function\n",
        "\n",
        "#Functional Approach\n",
        "def squar(a):\n",
        "  return a*a\n",
        "\n",
        "result = squar(5)\n",
        "print(result)\n",
        "\n",
        "#Lambda Approach\n",
        "f = lambda b,c : b*b*c\n",
        "result2 = f(4,2)\n",
        "print(result2)"
      ],
      "metadata": {
        "id": "CkThLqPZF_HC",
        "colab": {
          "base_uri": "https://localhost:8080/"
        },
        "outputId": "4d8a4c70-9ec3-4a67-e5a4-088fccd48bd7"
      },
      "execution_count": null,
      "outputs": [
        {
          "output_type": "stream",
          "name": "stdout",
          "text": [
            "25\n",
            "32\n"
          ]
        }
      ]
    },
    {
      "cell_type": "code",
      "source": [
        "#8:Dictionaries - Operations On Dictionaries\n",
        "#Dictionaries are used to store data values in key:value pairs.\n",
        "#A dictionary is a collection which is ordered*, changeable and do not allow duplicates.\n",
        "\n",
        "#Dictionary\n",
        "thisdict = {\n",
        "  \"brand\": \"Ford\",\n",
        "  \"model\": \"Mustang\",\n",
        "  \"electric\": False,\n",
        "  \"year\": 1964,\n",
        "  \"colors\": [\"red\", \"white\", \"blue\"]\n",
        "}\n",
        "\n",
        "#Basic Operations\n",
        "print(\"Full dictionary print:\\n\",thisdict)\n",
        "print(\"Dictionary Length:\",len(thisdict))\n",
        "\n",
        "#Advanced operations\n",
        "\n",
        "#Access item\n",
        "print(\"Access by particular key:\",thisdict[\"model\"])\n",
        "print(\"Access all key\",thisdict.keys())\n",
        "print(\"All Values\",thisdict.values())\n",
        "#change item\n",
        "#addd item\n",
        "#remove item\n",
        "#loop dictionary\n",
        "#copy dictionary\n",
        "#nested dictionary"
      ],
      "metadata": {
        "id": "QU2HYv0TF_Pc",
        "colab": {
          "base_uri": "https://localhost:8080/"
        },
        "outputId": "79885bac-a609-4764-8e18-6c76f4b39a41"
      },
      "execution_count": null,
      "outputs": [
        {
          "output_type": "stream",
          "name": "stdout",
          "text": [
            "Full dictionary print:\n",
            " {'brand': 'Ford', 'model': 'Mustang', 'electric': False, 'year': 1964, 'colors': ['red', 'white', 'blue']}\n",
            "Dictionary Length: 5\n",
            "Access by particular key: Mustang\n",
            "Access by key dict_keys(['brand', 'model', 'electric', 'year', 'colors'])\n"
          ]
        }
      ]
    },
    {
      "cell_type": "code",
      "source": [
        "#9:Map()\n",
        "#lets you apply a function to each element of a list\n",
        "\n",
        "def myfunc(n):\n",
        "  return len(n)\n",
        "\n",
        "x = map(myfunc,('apple', 'banana', 'cherry'))\n",
        "print(x)\n",
        "\n",
        "#Loops it to get answer of each item\n",
        "for a in x:\n",
        "  print(a)"
      ],
      "metadata": {
        "id": "BOY9VqLbF_Ye",
        "colab": {
          "base_uri": "https://localhost:8080/"
        },
        "outputId": "d9ee1578-3008-424f-dea6-df863dd7f2d2"
      },
      "execution_count": null,
      "outputs": [
        {
          "output_type": "stream",
          "name": "stdout",
          "text": [
            "<map object at 0x7f1c40e32350>\n",
            "5\n",
            "6\n",
            "6\n"
          ]
        }
      ]
    },
    {
      "cell_type": "code",
      "source": [
        "#10:Filter\n",
        "#The filter() function returns an iterator were the items are filtered through a function to test if the item is accepted or not.\n",
        "\n",
        "ages = [5, 12, 17, 18, 24, 32]\n",
        "\n",
        "def myFunc(x):\n",
        "  if x < 18:\n",
        "    return False\n",
        "  else:\n",
        "    return True\n",
        "\n",
        "adults = filter(myFunc, ages)\n",
        "\n",
        "for x in adults:\n",
        "  print(x)"
      ],
      "metadata": {
        "id": "C5ssNDCsF_hW",
        "colab": {
          "base_uri": "https://localhost:8080/"
        },
        "outputId": "4114015a-ede6-4395-bb37-052d226b32e7"
      },
      "execution_count": null,
      "outputs": [
        {
          "output_type": "stream",
          "name": "stdout",
          "text": [
            "18\n",
            "24\n",
            "32\n"
          ]
        }
      ]
    },
    {
      "cell_type": "code",
      "source": [
        "#11:Decorators\n",
        "#using nested function is called decorator\n",
        "def div (a,b):\n",
        "  print (a/b)\n",
        "\n",
        "def smart_div (func):\n",
        "  def inner (a, b) :  #here inner is decorator of samrt_div\n",
        "    if a < b:\n",
        "      a,b = b, a\n",
        "    return func (a,b)\n",
        "  return inner\n",
        "\n",
        "div= smart_div(div) #here we are calling div in smart_div\n",
        "div (3, 12)"
      ],
      "metadata": {
        "id": "30hxqk3vF_q6",
        "colab": {
          "base_uri": "https://localhost:8080/"
        },
        "outputId": "bc4bdf0e-cbfe-49a2-d205-567b7d038bdb"
      },
      "execution_count": 4,
      "outputs": [
        {
          "output_type": "stream",
          "name": "stdout",
          "text": [
            "4.0\n"
          ]
        }
      ]
    },
    {
      "cell_type": "code",
      "source": [
        "def uppercase_decorator(function):\n",
        "    def wrapper():\n",
        "        func = function()\n",
        "        make_uppercase = func.upper()\n",
        "        return make_uppercase\n",
        "\n",
        "    return wrapper\n",
        "\n",
        "def split_string(function):\n",
        "    def wrapper():\n",
        "        func = function()\n",
        "        splitted_string = func.split()\n",
        "        return splitted_string\n",
        "\n",
        "    return wrapper\n",
        "\n",
        "@split_string\n",
        "@uppercase_decorator\n",
        "def say_hi():\n",
        "    return 'hello there'\n",
        "say_hi()"
      ],
      "metadata": {
        "colab": {
          "base_uri": "https://localhost:8080/"
        },
        "id": "KVy0uTV80xq8",
        "outputId": "457eb9cc-96ec-4628-8f82-7fcfe2a451e1"
      },
      "execution_count": 6,
      "outputs": [
        {
          "output_type": "execute_result",
          "data": {
            "text/plain": [
              "['HELLO', 'THERE']"
            ]
          },
          "metadata": {},
          "execution_count": 6
        }
      ]
    },
    {
      "cell_type": "code",
      "source": [
        "#12:List Indexing\n",
        "\n",
        "a= ['apple', 'mangoe', 'banana']\n",
        "\n",
        "for i,fruit in enumerate(a):\n",
        "  print(i,\": \",fruit)"
      ],
      "metadata": {
        "id": "NFOzpKmoF_yi",
        "colab": {
          "base_uri": "https://localhost:8080/"
        },
        "outputId": "92203a8a-1c20-43cf-c539-e514157b01e4"
      },
      "execution_count": null,
      "outputs": [
        {
          "output_type": "stream",
          "name": "stdout",
          "text": [
            "0 :  apple\n",
            "1 :  mangoe\n",
            "2 :  banana\n"
          ]
        }
      ]
    }
  ]
}